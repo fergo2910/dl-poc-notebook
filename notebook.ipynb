#!/usr/bin/env python
# coding: utf-8

# In[17]:


offset = 0
limit = 3000
period = '5y' # valid periods: 1d,5d,1mo,3mo,6mo,1y,2y,5y,10y,ytd,max


# In[18]:


import pandas as pd

data = pd.read_csv("http://www.nasdaqtrader.com/dynamic/SymDir/nasdaqtraded.txt", sep='|')
data_clean = data[data['Test Issue'] == 'N']
symbols = data_clean['NASDAQ Symbol'].tolist()
print('total number of symbols traded = {}'.format(len(symbols)))


# In[19]:


get_ipython().system(' pip install yfinance > /dev/null 2>&1')
get_ipython().system(' mkdir hist')


# In[20]:


import yfinance as yf
import os, contextlib


# In[21]:


get_ipython().run_cell_magic('time', '', "\nlimit = limit if limit else len(symbols)\nend = min(offset + limit, len(symbols))\nis_valid = [False] * len(symbols)\n# force silencing of verbose API\nwith open(os.devnull, 'w') as devnull:\n    with contextlib.redirect_stdout(devnull):\n        for i in range(offset, end):\n            s = symbols[i]\n            data = yf.download(s, period=period)\n            if len(data.index) == 0:\n                continue\n        \n            is_valid[i] = True\n            data.to_csv('hist/{}.csv'.format(s))\n\nprint('Total number of valid symbols downloaded = {}'.format(sum(is_valid)))")


# In[22]:


valid_data = data_clean[is_valid]
valid_data.to_csv('symbols_valid_meta.csv', index=False)


# In[23]:


get_ipython().system('mkdir stocks')
get_ipython().system('mkdir etfs')


# In[24]:


etfs = valid_data[valid_data['ETF'] == 'Y']['NASDAQ Symbol'].tolist()
stocks = valid_data[valid_data['ETF'] == 'N']['NASDAQ Symbol'].tolist()


# In[26]:


import shutil
from os.path import isfile, join

def move_symbols(symbols, dest):
    for s in symbols:
        filename = '{}.csv'.format(s)
        get_ipython().system('mkdir {dest}/{s}')
        shutil.move(join('hist', filename), join(dest,'{}'.format(s), 'data.csv'))

move_symbols(etfs, "etfs")
move_symbols(stocks, "stocks")


# In[27]:


get_ipython().system(' rmdir hist')


# In[33]:


# COPY TO S3
import boto3
s3C = boto3.client('s3')

def uploadDirectory(path,bucketname):
    for root,dirs,files in os.walk(path):
        for file in files:
            s3C.upload_file(os.path.join(root,file),bucketname,os.path.join(root,file))

uploadDirectory('etfs','carlosrodf')
uploadDirectory('stocks','carlosrodf')


# In[ ]:
